{
 "cells": [
  {
   "cell_type": "markdown",
   "metadata": {},
   "source": [
    "# Задание 2.1 - Нейронные сети\n",
    "\n",
    "В этом задании вы реализуете и натренируете настоящую нейроную сеть своими руками!\n",
    "\n",
    "В некотором смысле это будет расширением прошлого задания - нам нужно просто составить несколько линейных классификаторов вместе!\n",
    "\n",
    "<img src=\"https://i.redd.it/n9fgba8b0qr01.png\" alt=\"Stack_more_layers\" width=\"400px\"/>"
   ]
  },
  {
   "cell_type": "code",
   "execution_count": 69,
   "metadata": {},
   "outputs": [],
   "source": [
    "import importlib\n",
    "\n",
    "import math\n",
    "import numpy as np\n",
    "import pandas as pd\n",
    "\n",
    "import matplotlib.pyplot as plt\n",
    "\n",
    "%matplotlib inline\n",
    "\n",
    "# %load_ext autoreload\n",
    "# %autoreload 2"
   ]
  },
  {
   "cell_type": "code",
   "execution_count": 79,
   "metadata": {},
   "outputs": [],
   "source": [
    "import dataset\n",
    "import gradient_check\n",
    "import layers\n",
    "import model\n",
    "import trainer\n",
    "import optim\n",
    "import metrics\n",
    "\n",
    "\n",
    "# from dataset import load_svhn, random_split_train_val\n",
    "# from gradient_check import check_layer_gradient, check_layer_param_gradient, check_model_gradient\n",
    "# from layers import FullyConnectedLayer, ReLULayer\n",
    "# from model import TwoLayerNet\n",
    "# from trainer import Trainer, Dataset\n",
    "# from optim import SGD, MomentumSGD\n",
    "# from metrics import multiclass_accuracy"
   ]
  },
  {
   "cell_type": "markdown",
   "metadata": {},
   "source": [
    "# Загружаем данные\n",
    "\n",
    "И разделяем их на training и validation."
   ]
  },
  {
   "cell_type": "code",
   "execution_count": 4,
   "metadata": {},
   "outputs": [],
   "source": [
    "def prepare_for_neural_network(train_X, test_X):\n",
    "    train_flat = train_X.reshape(train_X.shape[0], -1).astype(np.float) / 255.0\n",
    "    test_flat = test_X.reshape(test_X.shape[0], -1).astype(np.float) / 255.0\n",
    "    \n",
    "    # Subtract mean\n",
    "    mean_image = np.mean(train_flat, axis = 0)\n",
    "    train_flat -= mean_image\n",
    "    test_flat -= mean_image\n",
    "    \n",
    "    return train_flat, test_flat\n",
    "    \n",
    "train_X, train_y, test_X, test_y = dataset.load_svhn(\"data\", max_train=10000, max_test=1000)    \n",
    "train_X, test_X = prepare_for_neural_network(train_X, test_X)\n",
    "# Split train into train and val\n",
    "train_X, train_y, val_X, val_y = dataset.random_split_train_val(train_X, train_y, num_val = 1000)"
   ]
  },
  {
   "cell_type": "markdown",
   "metadata": {},
   "source": [
    "# Как всегда, начинаем с кирпичиков\n",
    "\n",
    "Мы будем реализовывать необходимые нам слои по очереди. Каждый слой должен реализовать:\n",
    "- прямой проход (forward pass), который генерирует выход слоя по входу и запоминает необходимые данные\n",
    "- обратный проход (backward pass), который получает градиент по выходу слоя и вычисляет градиент по входу и по параметрам\n",
    "\n",
    "Начнем с ReLU, у которого параметров нет."
   ]
  },
  {
   "cell_type": "code",
   "execution_count": 24,
   "metadata": {},
   "outputs": [
    {
     "data": {
      "text/plain": [
       "array([[2, 3, 4],\n",
       "       [5, 6, 7]])"
      ]
     },
     "execution_count": 24,
     "metadata": {},
     "output_type": "execute_result"
    }
   ],
   "source": [
    "a = np.array([[1,2,3], [4,5,6]])\n",
    "b = np.array([1,1,1])\n",
    "a + b"
   ]
  },
  {
   "cell_type": "code",
   "execution_count": 20,
   "metadata": {
    "scrolled": false
   },
   "outputs": [
    {
     "name": "stdout",
     "output_type": "stream",
     "text": [
      "Gradient check passed!\n"
     ]
    }
   ],
   "source": [
    "# importlib.reload(layers)\n",
    "# importlib.reload(gradient_check)\n",
    "\n",
    "# Implement ReLULayer layer in layers.py\n",
    "# Note: you'll need to copy implementation of the gradient_check function from the previous assignment\n",
    "\n",
    "X = np.array([[1,-2,3],\n",
    "              [-1, 2, 0.1]])\n",
    "\n",
    "assert gradient_check.check_layer_gradient(layers.ReLULayer(), X)"
   ]
  },
  {
   "cell_type": "markdown",
   "metadata": {},
   "source": [
    "А теперь реализуем полносвязный слой (fully connected layer), у которого будет два массива параметров: W (weights) и B (bias).\n",
    "\n",
    "Все параметры наши слои будут использовать для параметров специальный класс `Param`, в котором будут храниться значения параметров и градиенты этих параметров, вычисляемые во время обратного прохода.\n",
    "\n",
    "Это даст возможность аккумулировать (суммировать) градиенты из разных частей функции потерь, например, из cross-entropy loss и regularization loss."
   ]
  },
  {
   "cell_type": "code",
   "execution_count": 28,
   "metadata": {},
   "outputs": [
    {
     "name": "stdout",
     "output_type": "stream",
     "text": [
      "Gradient check passed!\n",
      "Gradient check passed!\n",
      "Gradient check passed!\n"
     ]
    }
   ],
   "source": [
    "# importlib.reload(layers)\n",
    "# importlib.reload(gradient_check)\n",
    "\n",
    "# Implement FullyConnected layer forward and backward methods\n",
    "assert gradient_check.check_layer_gradient(layers.FullyConnectedLayer(3, 4), X)\n",
    "\n",
    "# Implement storing gradients for W and B\n",
    "assert gradient_check.check_layer_param_gradient(layers.FullyConnectedLayer(3, 4), X, 'W')\n",
    "assert gradient_check.check_layer_param_gradient(layers.FullyConnectedLayer(3, 4), X, 'B')"
   ]
  },
  {
   "cell_type": "markdown",
   "metadata": {},
   "source": [
    "## Создаем нейронную сеть\n",
    "\n",
    "Теперь мы реализуем простейшую нейронную сеть с двумя полносвязным слоями и нелинейностью ReLU. Реализуйте функцию `compute_loss_and_gradients`, она должна запустить прямой и обратный проход через оба слоя для вычисления градиентов.\n",
    "\n",
    "Не забудьте реализовать очистку градиентов в начале функции."
   ]
  },
  {
   "cell_type": "code",
   "execution_count": 36,
   "metadata": {},
   "outputs": [
    {
     "name": "stdout",
     "output_type": "stream",
     "text": [
      "Checking gradient for 0_W\n",
      "Gradient check passed!\n",
      "Checking gradient for 0_B\n",
      "Gradient check passed!\n",
      "Checking gradient for 2_W\n",
      "Gradient check passed!\n",
      "Checking gradient for 2_B\n",
      "Gradient check passed!\n"
     ]
    },
    {
     "data": {
      "text/plain": [
       "True"
      ]
     },
     "execution_count": 36,
     "metadata": {},
     "output_type": "execute_result"
    }
   ],
   "source": [
    "# importlib.reload(model)\n",
    "# importlib.reload(layers)\n",
    "# importlib.reload(gradient_check)\n",
    "\n",
    "# In model.py, implement compute_loss_and_gradients function\n",
    "nn = model.TwoLayerNet(n_input=train_X.shape[1], n_output=10, hidden_layer_size=3, reg=0)\n",
    "loss = nn.compute_loss_and_gradients(train_X[:2], train_y[:2])\n",
    "\n",
    "# Now implement backward pass and aggregate all of the params\n",
    "gradient_check.check_model_gradient(nn, train_X[:2], train_y[:2])"
   ]
  },
  {
   "cell_type": "markdown",
   "metadata": {},
   "source": [
    "Теперь добавьте к модели регуляризацию - она должна прибавляться к loss и делать свой вклад в градиенты."
   ]
  },
  {
   "cell_type": "code",
   "execution_count": 64,
   "metadata": {},
   "outputs": [
    {
     "name": "stdout",
     "output_type": "stream",
     "text": [
      "Checking gradient for 0_W\n",
      "Gradient check passed!\n",
      "Checking gradient for 0_B\n",
      "Gradient check passed!\n",
      "Checking gradient for 2_W\n",
      "Gradient check passed!\n",
      "Checking gradient for 2_B\n",
      "Gradient check passed!\n"
     ]
    },
    {
     "data": {
      "text/plain": [
       "True"
      ]
     },
     "execution_count": 64,
     "metadata": {},
     "output_type": "execute_result"
    }
   ],
   "source": [
    "# importlib.reload(model)\n",
    "# importlib.reload(layers)\n",
    "# importlib.reload(gradient_check)\n",
    "\n",
    "# Now implement L2 regularization in the forward and backward pass\n",
    "nn_with_reg = model.TwoLayerNet(n_input=train_X.shape[1], n_output =10, hidden_layer_size=3, reg=1e1)\n",
    "loss_with_reg = nn_with_reg.compute_loss_and_gradients(train_X[:2], train_y[:2])\n",
    "\n",
    "assert loss_with_reg > loss and not np.isclose(loss_with_reg, loss), \\\n",
    "    \"Loss with regularization (%2.4f) should be higher than without it (%2.4f)!\" % (loss, loss_with_reg)\n",
    "\n",
    "gradient_check.check_model_gradient(nn_with_reg, train_X[:2], train_y[:2])"
   ]
  },
  {
   "cell_type": "markdown",
   "metadata": {},
   "source": [
    "Также реализуем функцию предсказания (вычисления значения) модели на новых данных.\n",
    "\n",
    "Какое значение точности мы ожидаем увидеть до начала тренировки?"
   ]
  },
  {
   "cell_type": "code",
   "execution_count": 65,
   "metadata": {},
   "outputs": [
    {
     "data": {
      "text/plain": [
       "0.1"
      ]
     },
     "execution_count": 65,
     "metadata": {},
     "output_type": "execute_result"
    }
   ],
   "source": [
    "# importlib.reload(metrics)\n",
    "\n",
    "# Finally, implement predict function!\n",
    "# What would be the value we expect?\n",
    "metrics.multiclass_accuracy(nn_with_reg.predict(train_X[:30]), train_y[:30]) "
   ]
  },
  {
   "cell_type": "markdown",
   "metadata": {},
   "source": [
    "# Допишем код для процесса тренировки\n",
    "\n",
    "Если все реализовано корректно, значение функции ошибки должно уменьшаться с каждой эпохой, пусть и медленно. Не беспокойтесь пока про validation accuracy."
   ]
  },
  {
   "cell_type": "code",
   "execution_count": 61,
   "metadata": {},
   "outputs": [
    {
     "name": "stdout",
     "output_type": "stream",
     "text": [
      "Loss: 2.302397, Train accuracy: 0.196667, val accuracy: 0.206000\n",
      "Loss: 2.302413, Train accuracy: 0.196667, val accuracy: 0.206000\n",
      "Loss: 2.302501, Train accuracy: 0.196667, val accuracy: 0.206000\n",
      "Loss: 2.302320, Train accuracy: 0.196667, val accuracy: 0.206000\n",
      "Loss: 2.302424, Train accuracy: 0.196667, val accuracy: 0.206000\n",
      "Loss: 2.302483, Train accuracy: 0.196667, val accuracy: 0.206000\n",
      "Loss: 2.302622, Train accuracy: 0.148222, val accuracy: 0.140000\n",
      "Loss: 2.302511, Train accuracy: 0.196667, val accuracy: 0.206000\n",
      "Loss: 2.302463, Train accuracy: 0.196667, val accuracy: 0.206000\n",
      "Loss: 2.302548, Train accuracy: 0.196667, val accuracy: 0.206000\n",
      "Loss: 2.302555, Train accuracy: 0.148222, val accuracy: 0.140000\n",
      "Loss: 2.302588, Train accuracy: 0.196667, val accuracy: 0.206000\n",
      "Loss: 2.302482, Train accuracy: 0.196667, val accuracy: 0.206000\n",
      "Loss: 2.302539, Train accuracy: 0.093111, val accuracy: 0.090000\n",
      "Loss: 2.302533, Train accuracy: 0.196667, val accuracy: 0.206000\n",
      "Loss: 2.302574, Train accuracy: 0.196667, val accuracy: 0.206000\n",
      "Loss: 2.302560, Train accuracy: 0.196667, val accuracy: 0.206000\n",
      "Loss: 2.302537, Train accuracy: 0.114222, val accuracy: 0.147000\n",
      "Loss: 2.302554, Train accuracy: 0.196667, val accuracy: 0.206000\n",
      "Loss: 2.302400, Train accuracy: 0.196667, val accuracy: 0.206000\n"
     ]
    }
   ],
   "source": [
    "# importlib.reload(model)\n",
    "# importlib.reload(trainer)\n",
    "# importlib.reload(layers)\n",
    "# importlib.reload(gradient_check)\n",
    "\n",
    "nn = model.TwoLayerNet(n_input=train_X.shape[1], n_output=10, hidden_layer_size=100, reg=1e1)\n",
    "dataset = trainer.Dataset(train_X, train_y, val_X, val_y)\n",
    "coach = trainer.Trainer(nn, dataset, optim.SGD(), learning_rate=1e-2)\n",
    "\n",
    "# Implement missing pieces in Trainer.fit function\n",
    "# You should expect loss to go down every epoch, even if it's slow\n",
    "loss_history, train_history, val_history = coach.fit()"
   ]
  },
  {
   "cell_type": "code",
   "execution_count": 63,
   "metadata": {},
   "outputs": [
    {
     "data": {
      "image/png": "[encoded data removed]",
      "text/plain": [
       "<Figure size 432x288 with 1 Axes>"
      ]
     },
     "metadata": {
      "needs_background": "light"
     },
     "output_type": "display_data"
    }
   ],
   "source": [
    "plt.plot(train_history)\n",
    "plt.plot(val_history);"
   ]
  },
  {
   "cell_type": "markdown",
   "metadata": {},
   "source": [
    "# Улучшаем процесс тренировки\n",
    "\n",
    "Мы реализуем несколько ключевых оптимизаций, необходимых для тренировки современных нейросетей."
   ]
  },
  {
   "cell_type": "markdown",
   "metadata": {},
   "source": [
    "## Уменьшение скорости обучения (learning rate decay)\n",
    "\n",
    "Одна из необходимых оптимизаций во время тренировки нейронных сетей - постепенное уменьшение скорости обучения по мере тренировки.\n",
    "\n",
    "Один из стандартных методов - уменьшение скорости обучения (learning rate) каждые N эпох на коэффициент d (часто называемый decay). Значения N и d, как всегда, являются гиперпараметрами и должны подбираться на основе эффективности на проверочных данных (validation data). \n",
    "\n",
    "В нашем случае N будет равным 1."
   ]
  },
  {
   "cell_type": "code",
   "execution_count": 71,
   "metadata": {},
   "outputs": [
    {
     "name": "stdout",
     "output_type": "stream",
     "text": [
      "Loss: 2.303586, Train accuracy: 0.196667, val accuracy: 0.206000\n",
      "Loss: 2.293592, Train accuracy: 0.196667, val accuracy: 0.206000\n",
      "Loss: 2.304204, Train accuracy: 0.196667, val accuracy: 0.206000\n",
      "Loss: 2.251843, Train accuracy: 0.196667, val accuracy: 0.206000\n",
      "Loss: 2.288600, Train accuracy: 0.196667, val accuracy: 0.206000\n",
      "Loss: 2.278663, Train accuracy: 0.196667, val accuracy: 0.206000\n",
      "Loss: 2.318597, Train accuracy: 0.196667, val accuracy: 0.206000\n",
      "Loss: 2.228121, Train accuracy: 0.196667, val accuracy: 0.206000\n",
      "Loss: 2.223722, Train accuracy: 0.196667, val accuracy: 0.206000\n",
      "Loss: 2.276842, Train accuracy: 0.196667, val accuracy: 0.206000\n",
      "Loss: 2.327759, Train accuracy: 0.196667, val accuracy: 0.206000\n",
      "Loss: 2.287617, Train accuracy: 0.196667, val accuracy: 0.206000\n",
      "Loss: 2.236164, Train accuracy: 0.196667, val accuracy: 0.206000\n",
      "Loss: 2.203622, Train accuracy: 0.196667, val accuracy: 0.206000\n",
      "Loss: 2.332110, Train accuracy: 0.196667, val accuracy: 0.206000\n",
      "Loss: 2.266727, Train accuracy: 0.196667, val accuracy: 0.206000\n",
      "Loss: 2.251408, Train accuracy: 0.196667, val accuracy: 0.206000\n",
      "Loss: 2.266164, Train accuracy: 0.196667, val accuracy: 0.206000\n",
      "Loss: 2.244875, Train accuracy: 0.196667, val accuracy: 0.206000\n",
      "Loss: 2.357957, Train accuracy: 0.196667, val accuracy: 0.206000\n"
     ]
    }
   ],
   "source": [
    "# importlib.reload(trainer)\n",
    "\n",
    "# Implement learning rate decay inside Trainer.fit method\n",
    "# Decay should happen once per epoch\n",
    "\n",
    "nn = model.TwoLayerNet(n_input=train_X.shape[1], n_output=10, hidden_layer_size=100, reg=1e-1)\n",
    "dataset = trainer.Dataset(train_X, train_y, val_X, val_y)\n",
    "coach = trainer.Trainer(nn, dataset, optim.SGD(), learning_rate_decay=0.99)\n",
    "\n",
    "initial_learning_rate = coach.learning_rate\n",
    "loss_history, train_history, val_history = coach.fit()\n",
    "\n",
    "assert coach.learning_rate < initial_learning_rate, \"Learning rate should've been reduced\"\n",
    "assert coach.learning_rate > 0.5*initial_learning_rate, \"Learning rate shouldn't've been reduced that much!\""
   ]
  },
  {
   "cell_type": "markdown",
   "metadata": {},
   "source": [
    "# Накопление импульса (Momentum SGD)\n",
    "\n",
    "Другой большой класс оптимизаций - использование более эффективных методов градиентного спуска. Мы реализуем один из них - накопление импульса (Momentum SGD).\n",
    "\n",
    "Этот метод хранит скорость движения, использует градиент для ее изменения на каждом шаге, и изменяет веса пропорционально значению скорости.\n",
    "(Физическая аналогия: Вместо скорости градиенты теперь будут задавать ускорение, но будет присутствовать сила трения.)\n",
    "\n",
    "```\n",
    "velocity = momentum * velocity - learning_rate * gradient \n",
    "w = w + velocity\n",
    "```\n",
    "\n",
    "`momentum` здесь коэффициент затухания, который тоже является гиперпараметром (к счастью, для него часто есть хорошее значение по умолчанию, типичный диапазон -- 0.8-0.99).\n",
    "\n",
    "Несколько полезных ссылок, где метод разбирается более подробно:  \n",
    "http://cs231n.github.io/neural-networks-3/#sgd  \n",
    "https://distill.pub/2017/momentum/"
   ]
  },
  {
   "cell_type": "code",
   "execution_count": 74,
   "metadata": {},
   "outputs": [
    {
     "name": "stdout",
     "output_type": "stream",
     "text": [
      "Loss: 2.327589, Train accuracy: 0.196667, val accuracy: 0.206000\n",
      "Loss: 2.324036, Train accuracy: 0.196667, val accuracy: 0.206000\n",
      "Loss: 2.317725, Train accuracy: 0.196667, val accuracy: 0.206000\n",
      "Loss: 2.313724, Train accuracy: 0.196667, val accuracy: 0.206000\n",
      "Loss: 2.316798, Train accuracy: 0.196667, val accuracy: 0.206000\n",
      "Loss: 2.313802, Train accuracy: 0.196667, val accuracy: 0.206000\n",
      "Loss: 2.304926, Train accuracy: 0.196667, val accuracy: 0.206000\n",
      "Loss: 2.303641, Train accuracy: 0.196667, val accuracy: 0.206000\n",
      "Loss: 2.299772, Train accuracy: 0.196667, val accuracy: 0.206000\n",
      "Loss: 2.305861, Train accuracy: 0.196667, val accuracy: 0.206000\n",
      "Loss: 2.303467, Train accuracy: 0.196667, val accuracy: 0.206000\n",
      "Loss: 2.300830, Train accuracy: 0.196667, val accuracy: 0.206000\n",
      "Loss: 2.304335, Train accuracy: 0.196667, val accuracy: 0.206000\n",
      "Loss: 2.300111, Train accuracy: 0.196667, val accuracy: 0.206000\n",
      "Loss: 2.300842, Train accuracy: 0.196667, val accuracy: 0.206000\n",
      "Loss: 2.304221, Train accuracy: 0.196667, val accuracy: 0.206000\n",
      "Loss: 2.296695, Train accuracy: 0.196667, val accuracy: 0.206000\n",
      "Loss: 2.293623, Train accuracy: 0.196667, val accuracy: 0.206000\n",
      "Loss: 2.289152, Train accuracy: 0.196667, val accuracy: 0.206000\n",
      "Loss: 2.296703, Train accuracy: 0.196667, val accuracy: 0.206000\n"
     ]
    }
   ],
   "source": [
    "# importlib.reload(trainer)\n",
    "# importlib.reload(optim)\n",
    "\n",
    "# Implement MomentumSGD.update function in optim.py\n",
    "\n",
    "nn = model.TwoLayerNet(n_input=train_X.shape[1], n_output=10, hidden_layer_size=100, reg=1e-1)\n",
    "dataset = trainer.Dataset(train_X, train_y, val_X, val_y)\n",
    "coach = trainer.Trainer(nn, dataset, optim.MomentumSGD(), learning_rate=1e-4, learning_rate_decay=0.99)\n",
    "\n",
    "# You should see even better results than before!\n",
    "loss_history, train_history, val_history = coach.fit()"
   ]
  },
  {
   "cell_type": "markdown",
   "metadata": {},
   "source": [
    "# Ну что, давайте уже тренировать сеть!"
   ]
  },
  {
   "cell_type": "markdown",
   "metadata": {},
   "source": [
    "## Последний тест - переобучимся (overfit) на маленьком наборе данных\n",
    "\n",
    "Хороший способ проверить, все ли реализовано корректно - переобучить сеть на маленьком наборе данных.  \n",
    "Наша модель обладает достаточной мощностью, чтобы приблизить маленький набор данных идеально, поэтому мы ожидаем, что на нем мы быстро дойдем до 100% точности на тренировочном наборе. \n",
    "\n",
    "Если этого не происходит, то где-то была допущена ошибка!"
   ]
  },
  {
   "cell_type": "code",
   "execution_count": 76,
   "metadata": {
    "scrolled": true
   },
   "outputs": [
    {
     "name": "stdout",
     "output_type": "stream",
     "text": [
      "Loss: 2.331183, Train accuracy: 0.200000, val accuracy: 0.066667\n",
      "Loss: 2.330963, Train accuracy: 0.333333, val accuracy: 0.066667\n",
      "Loss: 2.312516, Train accuracy: 0.333333, val accuracy: 0.066667\n",
      "Loss: 2.323351, Train accuracy: 0.266667, val accuracy: 0.000000\n",
      "Loss: 2.315293, Train accuracy: 0.200000, val accuracy: 0.133333\n",
      "Loss: 2.283174, Train accuracy: 0.200000, val accuracy: 0.133333\n",
      "Loss: 2.300711, Train accuracy: 0.266667, val accuracy: 0.000000\n",
      "Loss: 2.303305, Train accuracy: 0.400000, val accuracy: 0.000000\n",
      "Loss: 2.284461, Train accuracy: 0.400000, val accuracy: 0.000000\n",
      "Loss: 2.104304, Train accuracy: 0.400000, val accuracy: 0.000000\n",
      "Loss: 2.349776, Train accuracy: 0.400000, val accuracy: 0.000000\n",
      "Loss: 2.212800, Train accuracy: 0.333333, val accuracy: 0.000000\n",
      "Loss: 1.802621, Train accuracy: 0.333333, val accuracy: 0.000000\n",
      "Loss: 2.106296, Train accuracy: 0.333333, val accuracy: 0.000000\n",
      "Loss: 1.544965, Train accuracy: 0.333333, val accuracy: 0.000000\n",
      "Loss: 1.879828, Train accuracy: 0.333333, val accuracy: 0.000000\n",
      "Loss: 1.774081, Train accuracy: 0.333333, val accuracy: 0.000000\n",
      "Loss: 2.040997, Train accuracy: 0.333333, val accuracy: 0.000000\n",
      "Loss: 1.448184, Train accuracy: 0.333333, val accuracy: 0.000000\n",
      "Loss: 2.056612, Train accuracy: 0.333333, val accuracy: 0.000000\n",
      "Loss: 2.195587, Train accuracy: 0.333333, val accuracy: 0.000000\n",
      "Loss: 1.852808, Train accuracy: 0.333333, val accuracy: 0.000000\n",
      "Loss: 1.985908, Train accuracy: 0.400000, val accuracy: 0.000000\n",
      "Loss: 1.684100, Train accuracy: 0.333333, val accuracy: 0.000000\n",
      "Loss: 1.314774, Train accuracy: 0.333333, val accuracy: 0.000000\n",
      "Loss: 2.154460, Train accuracy: 0.533333, val accuracy: 0.000000\n",
      "Loss: 2.131799, Train accuracy: 0.533333, val accuracy: 0.000000\n",
      "Loss: 1.603269, Train accuracy: 0.533333, val accuracy: 0.000000\n",
      "Loss: 1.640418, Train accuracy: 0.533333, val accuracy: 0.000000\n",
      "Loss: 1.297895, Train accuracy: 0.533333, val accuracy: 0.000000\n",
      "Loss: 1.861744, Train accuracy: 0.533333, val accuracy: 0.000000\n",
      "Loss: 2.008890, Train accuracy: 0.666667, val accuracy: 0.000000\n",
      "Loss: 2.160913, Train accuracy: 0.533333, val accuracy: 0.000000\n",
      "Loss: 1.355671, Train accuracy: 0.600000, val accuracy: 0.000000\n",
      "Loss: 1.544487, Train accuracy: 0.666667, val accuracy: 0.000000\n",
      "Loss: 1.261858, Train accuracy: 0.533333, val accuracy: 0.000000\n",
      "Loss: 1.954305, Train accuracy: 0.533333, val accuracy: 0.000000\n",
      "Loss: 1.427998, Train accuracy: 0.600000, val accuracy: 0.000000\n",
      "Loss: 1.341209, Train accuracy: 0.600000, val accuracy: 0.000000\n",
      "Loss: 1.849933, Train accuracy: 0.600000, val accuracy: 0.000000\n",
      "Loss: 1.967224, Train accuracy: 0.600000, val accuracy: 0.000000\n",
      "Loss: 1.795865, Train accuracy: 0.666667, val accuracy: 0.000000\n",
      "Loss: 1.381115, Train accuracy: 0.666667, val accuracy: 0.000000\n",
      "Loss: 1.667811, Train accuracy: 0.666667, val accuracy: 0.000000\n",
      "Loss: 1.904801, Train accuracy: 0.666667, val accuracy: 0.000000\n",
      "Loss: 1.356243, Train accuracy: 0.666667, val accuracy: 0.066667\n",
      "Loss: 1.459221, Train accuracy: 0.666667, val accuracy: 0.000000\n",
      "Loss: 1.930427, Train accuracy: 0.733333, val accuracy: 0.000000\n",
      "Loss: 1.390823, Train accuracy: 0.733333, val accuracy: 0.000000\n",
      "Loss: 1.320778, Train accuracy: 0.733333, val accuracy: 0.066667\n",
      "Loss: 1.511497, Train accuracy: 0.733333, val accuracy: 0.066667\n",
      "Loss: 1.737080, Train accuracy: 0.733333, val accuracy: 0.000000\n",
      "Loss: 1.710631, Train accuracy: 0.733333, val accuracy: 0.066667\n",
      "Loss: 1.372396, Train accuracy: 0.733333, val accuracy: 0.066667\n",
      "Loss: 0.788517, Train accuracy: 0.733333, val accuracy: 0.066667\n",
      "Loss: 1.205526, Train accuracy: 0.733333, val accuracy: 0.000000\n",
      "Loss: 1.111951, Train accuracy: 0.733333, val accuracy: 0.000000\n",
      "Loss: 1.121416, Train accuracy: 0.733333, val accuracy: 0.000000\n",
      "Loss: 1.572132, Train accuracy: 0.733333, val accuracy: 0.000000\n",
      "Loss: 1.642072, Train accuracy: 0.733333, val accuracy: 0.066667\n",
      "Loss: 1.321048, Train accuracy: 0.733333, val accuracy: 0.066667\n",
      "Loss: 1.555577, Train accuracy: 0.733333, val accuracy: 0.066667\n",
      "Loss: 0.996476, Train accuracy: 0.733333, val accuracy: 0.000000\n",
      "Loss: 1.322759, Train accuracy: 0.733333, val accuracy: 0.066667\n",
      "Loss: 1.381675, Train accuracy: 0.733333, val accuracy: 0.066667\n",
      "Loss: 1.759523, Train accuracy: 0.733333, val accuracy: 0.000000\n",
      "Loss: 1.296026, Train accuracy: 0.733333, val accuracy: 0.066667\n",
      "Loss: 0.824181, Train accuracy: 0.733333, val accuracy: 0.066667\n",
      "Loss: 1.178981, Train accuracy: 0.733333, val accuracy: 0.066667\n",
      "Loss: 1.603693, Train accuracy: 0.800000, val accuracy: 0.066667\n",
      "Loss: 1.677949, Train accuracy: 0.800000, val accuracy: 0.000000\n",
      "Loss: 1.469065, Train accuracy: 0.800000, val accuracy: 0.066667\n",
      "Loss: 1.602791, Train accuracy: 0.800000, val accuracy: 0.066667\n",
      "Loss: 1.646111, Train accuracy: 0.800000, val accuracy: 0.066667\n",
      "Loss: 1.731389, Train accuracy: 0.800000, val accuracy: 0.066667\n",
      "Loss: 1.390704, Train accuracy: 0.800000, val accuracy: 0.000000\n",
      "Loss: 1.068337, Train accuracy: 0.800000, val accuracy: 0.066667\n",
      "Loss: 1.561427, Train accuracy: 0.800000, val accuracy: 0.066667\n",
      "Loss: 1.003431, Train accuracy: 0.800000, val accuracy: 0.066667\n",
      "Loss: 1.328594, Train accuracy: 0.800000, val accuracy: 0.066667\n",
      "Loss: 1.699840, Train accuracy: 0.800000, val accuracy: 0.066667\n",
      "Loss: 1.643808, Train accuracy: 0.800000, val accuracy: 0.066667\n",
      "Loss: 0.835070, Train accuracy: 0.866667, val accuracy: 0.066667\n",
      "Loss: 1.738244, Train accuracy: 0.866667, val accuracy: 0.066667\n",
      "Loss: 1.671432, Train accuracy: 0.866667, val accuracy: 0.066667\n",
      "Loss: 1.367955, Train accuracy: 0.866667, val accuracy: 0.000000\n",
      "Loss: 1.344110, Train accuracy: 0.866667, val accuracy: 0.000000\n",
      "Loss: 1.246486, Train accuracy: 0.866667, val accuracy: 0.066667\n",
      "Loss: 1.671045, Train accuracy: 0.866667, val accuracy: 0.066667\n",
      "Loss: 1.222022, Train accuracy: 0.866667, val accuracy: 0.066667\n",
      "Loss: 1.323465, Train accuracy: 0.866667, val accuracy: 0.066667\n",
      "Loss: 1.196694, Train accuracy: 0.866667, val accuracy: 0.066667\n",
      "Loss: 1.357610, Train accuracy: 0.866667, val accuracy: 0.066667\n",
      "Loss: 1.211936, Train accuracy: 0.866667, val accuracy: 0.066667\n",
      "Loss: 1.247717, Train accuracy: 0.866667, val accuracy: 0.066667\n",
      "Loss: 1.212865, Train accuracy: 0.866667, val accuracy: 0.000000\n",
      "Loss: 1.566927, Train accuracy: 0.866667, val accuracy: 0.066667\n",
      "Loss: 1.167157, Train accuracy: 0.866667, val accuracy: 0.066667\n",
      "Loss: 1.666619, Train accuracy: 0.866667, val accuracy: 0.066667\n",
      "Loss: 1.560417, Train accuracy: 0.866667, val accuracy: 0.066667\n",
      "Loss: 1.358503, Train accuracy: 0.866667, val accuracy: 0.066667\n",
      "Loss: 1.362441, Train accuracy: 0.866667, val accuracy: 0.066667\n",
      "Loss: 0.971887, Train accuracy: 0.866667, val accuracy: 0.066667\n",
      "Loss: 1.845638, Train accuracy: 0.866667, val accuracy: 0.000000\n",
      "Loss: 1.580342, Train accuracy: 0.866667, val accuracy: 0.066667\n",
      "Loss: 0.978842, Train accuracy: 0.866667, val accuracy: 0.066667\n",
      "Loss: 1.449553, Train accuracy: 0.866667, val accuracy: 0.066667\n",
      "Loss: 1.156919, Train accuracy: 0.866667, val accuracy: 0.000000\n",
      "Loss: 1.340950, Train accuracy: 0.866667, val accuracy: 0.066667\n",
      "Loss: 1.267868, Train accuracy: 0.866667, val accuracy: 0.066667\n",
      "Loss: 1.662038, Train accuracy: 0.866667, val accuracy: 0.066667\n",
      "Loss: 1.417219, Train accuracy: 0.866667, val accuracy: 0.066667\n",
      "Loss: 1.316503, Train accuracy: 0.866667, val accuracy: 0.066667\n",
      "Loss: 1.012277, Train accuracy: 0.866667, val accuracy: 0.066667\n",
      "Loss: 1.266817, Train accuracy: 0.866667, val accuracy: 0.066667\n",
      "Loss: 1.259093, Train accuracy: 0.933333, val accuracy: 0.000000\n",
      "Loss: 1.412088, Train accuracy: 0.933333, val accuracy: 0.000000\n",
      "Loss: 1.059417, Train accuracy: 0.933333, val accuracy: 0.000000\n",
      "Loss: 1.233548, Train accuracy: 0.933333, val accuracy: 0.000000\n",
      "Loss: 1.425338, Train accuracy: 0.933333, val accuracy: 0.066667\n",
      "Loss: 1.429269, Train accuracy: 1.000000, val accuracy: 0.000000\n",
      "Loss: 1.407411, Train accuracy: 0.933333, val accuracy: 0.000000\n",
      "Loss: 1.222271, Train accuracy: 1.000000, val accuracy: 0.000000\n",
      "Loss: 1.432415, Train accuracy: 1.000000, val accuracy: 0.000000\n",
      "Loss: 1.181028, Train accuracy: 1.000000, val accuracy: 0.000000\n",
      "Loss: 1.459396, Train accuracy: 1.000000, val accuracy: 0.000000\n",
      "Loss: 1.408506, Train accuracy: 1.000000, val accuracy: 0.000000\n",
      "Loss: 1.046605, Train accuracy: 1.000000, val accuracy: 0.000000\n",
      "Loss: 1.474543, Train accuracy: 1.000000, val accuracy: 0.000000\n",
      "Loss: 1.167014, Train accuracy: 1.000000, val accuracy: 0.000000\n",
      "Loss: 1.245833, Train accuracy: 1.000000, val accuracy: 0.000000\n",
      "Loss: 1.394029, Train accuracy: 1.000000, val accuracy: 0.000000\n",
      "Loss: 1.352508, Train accuracy: 1.000000, val accuracy: 0.000000\n",
      "Loss: 1.414106, Train accuracy: 1.000000, val accuracy: 0.000000\n",
      "Loss: 1.189782, Train accuracy: 1.000000, val accuracy: 0.000000\n",
      "Loss: 1.266022, Train accuracy: 1.000000, val accuracy: 0.000000\n",
      "Loss: 1.311468, Train accuracy: 1.000000, val accuracy: 0.000000\n",
      "Loss: 1.244181, Train accuracy: 1.000000, val accuracy: 0.000000\n",
      "Loss: 1.518584, Train accuracy: 1.000000, val accuracy: 0.000000\n",
      "Loss: 1.321145, Train accuracy: 1.000000, val accuracy: 0.000000\n",
      "Loss: 1.214566, Train accuracy: 1.000000, val accuracy: 0.000000\n",
      "Loss: 1.484590, Train accuracy: 1.000000, val accuracy: 0.000000\n",
      "Loss: 1.632272, Train accuracy: 1.000000, val accuracy: 0.000000\n",
      "Loss: 1.413767, Train accuracy: 1.000000, val accuracy: 0.000000\n",
      "Loss: 1.204817, Train accuracy: 1.000000, val accuracy: 0.000000\n",
      "Loss: 1.124155, Train accuracy: 1.000000, val accuracy: 0.000000\n"
     ]
    },
    {
     "name": "stdout",
     "output_type": "stream",
     "text": [
      "Loss: 1.131232, Train accuracy: 1.000000, val accuracy: 0.000000\n",
      "Loss: 1.138804, Train accuracy: 1.000000, val accuracy: 0.000000\n",
      "Loss: 1.519260, Train accuracy: 1.000000, val accuracy: 0.000000\n",
      "Loss: 1.092240, Train accuracy: 1.000000, val accuracy: 0.000000\n"
     ]
    }
   ],
   "source": [
    "data_size = 15\n",
    "nn = model.TwoLayerNet(n_input=train_X.shape[1], n_output=10, hidden_layer_size=100, reg=1e-1)\n",
    "dataset = trainer.Dataset(train_X[:data_size], train_y[:data_size], val_X[:data_size], val_y[:data_size])\n",
    "coach = trainer.Trainer(nn, dataset, optim.SGD(), learning_rate=1e-1, num_epochs=150, batch_size=5)\n",
    "\n",
    "# You should expect this to reach 1.0 training accuracy \n",
    "loss_history, train_history, val_history = coach.fit()"
   ]
  },
  {
   "cell_type": "markdown",
   "metadata": {},
   "source": [
    "Теперь найдем гипепараметры, для которых этот процесс сходится быстрее.\n",
    "Если все реализовано корректно, то существуют параметры, при которых процесс сходится в **20** эпох или еще быстрее.\n",
    "Найдите их!"
   ]
  },
  {
   "cell_type": "code",
   "execution_count": 105,
   "metadata": {},
   "outputs": [
    {
     "name": "stdout",
     "output_type": "stream",
     "text": [
      "Loss: 2.307946, Train accuracy: 0.200000, val accuracy: 0.133333\n",
      "Loss: 2.280654, Train accuracy: 0.200000, val accuracy: 0.066667\n",
      "Loss: 2.249790, Train accuracy: 0.200000, val accuracy: 0.133333\n",
      "Loss: 2.044726, Train accuracy: 0.400000, val accuracy: 0.000000\n",
      "Loss: 1.794847, Train accuracy: 0.400000, val accuracy: 0.000000\n",
      "Loss: 2.582240, Train accuracy: 0.266667, val accuracy: 0.000000\n",
      "Loss: 1.734707, Train accuracy: 0.466667, val accuracy: 0.066667\n",
      "Loss: 1.491432, Train accuracy: 0.466667, val accuracy: 0.133333\n",
      "Loss: 1.662866, Train accuracy: 0.666667, val accuracy: 0.000000\n",
      "Loss: 1.279243, Train accuracy: 0.733333, val accuracy: 0.000000\n",
      "Loss: 1.204057, Train accuracy: 0.733333, val accuracy: 0.133333\n",
      "Loss: 0.430359, Train accuracy: 0.866667, val accuracy: 0.066667\n",
      "Loss: 0.557082, Train accuracy: 1.000000, val accuracy: 0.000000\n",
      "Loss: 0.082204, Train accuracy: 1.000000, val accuracy: 0.000000\n",
      "Loss: 0.439251, Train accuracy: 1.000000, val accuracy: 0.000000\n",
      "Loss: 1.075063, Train accuracy: 0.933333, val accuracy: 0.000000\n",
      "Loss: 0.413806, Train accuracy: 0.933333, val accuracy: 0.000000\n",
      "Loss: 0.292456, Train accuracy: 1.000000, val accuracy: 0.000000\n",
      "Loss: 0.112483, Train accuracy: 1.000000, val accuracy: 0.066667\n",
      "Loss: 0.008986, Train accuracy: 1.000000, val accuracy: 0.066667\n"
     ]
    }
   ],
   "source": [
    "# Now, tweak some hyper parameters and make it train to 1.0 accuracy in 20 epochs or less\n",
    "\n",
    "nn = model.TwoLayerNet(n_input=train_X.shape[1], n_output=10, hidden_layer_size=100, reg=1e-4)\n",
    "dataset = trainer.Dataset(train_X[:data_size], train_y[:data_size], val_X[:data_size], val_y[:data_size])\n",
    "\n",
    "# Change any hyperparamers or optimizators to reach training accuracy in 20 epochs\n",
    "coach = trainer.Trainer(nn, dataset, optim.MomentumSGD(), learning_rate=1e-1, num_epochs=20, batch_size=5)\n",
    "\n",
    "loss_history, train_history, val_history = coach.fit()"
   ]
  },
  {
   "cell_type": "markdown",
   "metadata": {},
   "source": [
    "# Итак, основное мероприятие!\n",
    "\n",
    "Натренируйте лучшую нейросеть! Можно добавлять и изменять параметры, менять количество нейронов в слоях сети и как угодно экспериментировать. \n",
    "\n",
    "Добейтесь точности лучше **60%** на validation set."
   ]
  },
  {
   "cell_type": "code",
   "execution_count": null,
   "metadata": {
    "scrolled": true
   },
   "outputs": [],
   "source": [
    "# Let's train the best one-hidden-layer network we can\n",
    "\n",
    "learning_rates = 1e-4\n",
    "reg_strength = 1e-3\n",
    "learning_rate_decay = 0.999\n",
    "hidden_layer_size = 128\n",
    "num_epochs = 200\n",
    "batch_size = 64\n",
    "\n",
    "best_classifier = None\n",
    "best_val_accuracy = None\n",
    "\n",
    "loss_history = []\n",
    "train_history = []\n",
    "val_history = []\n",
    "\n",
    "# TODO find the best hyperparameters to train the network\n",
    "# Don't hesitate to add new values to the arrays above, perform experiments, use any tricks you want\n",
    "# You should expect to get to at least 40% of valudation accuracy\n",
    "# Save loss/train/history of the best classifier to the variables above\n",
    "\n",
    "print('best validation accuracy achieved: %f' % best_val_accuracy)"
   ]
  },
  {
   "cell_type": "code",
   "execution_count": null,
   "metadata": {},
   "outputs": [],
   "source": [
    "plt.figure(figsize=(15, 7))\n",
    "plt.subplot(211)\n",
    "plt.title(\"Loss\")\n",
    "plt.plot(loss_history)\n",
    "plt.subplot(212)\n",
    "plt.title(\"Train/validation accuracy\")\n",
    "plt.plot(train_history)\n",
    "plt.plot(val_history)"
   ]
  },
  {
   "cell_type": "markdown",
   "metadata": {},
   "source": [
    "# Как обычно, посмотрим, как наша лучшая модель работает на тестовых данных"
   ]
  },
  {
   "cell_type": "code",
   "execution_count": null,
   "metadata": {},
   "outputs": [],
   "source": [
    "test_pred = best_classifier.predict(test_X)\n",
    "test_accuracy = multiclass_accuracy(test_pred, test_y)\n",
    "print('Neural net test set accuracy: %f' % (test_accuracy, ))"
   ]
  }
 ],
 "metadata": {
  "kernelspec": {
   "display_name": "Python 3",
   "language": "python",
   "name": "python3"
  },
  "language_info": {
   "codemirror_mode": {
    "name": "ipython",
    "version": 3
   },
   "file_extension": ".py",
   "mimetype": "text/x-python",
   "name": "python",
   "nbconvert_exporter": "python",
   "pygments_lexer": "ipython3",
   "version": "3.7.3"
  }
 },
 "nbformat": 4,
 "nbformat_minor": 2
}
